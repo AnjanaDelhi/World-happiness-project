# Combine the world happiness with the country codes

# read the csv
import os
import csv